{
  "nbformat": 4,
  "nbformat_minor": 0,
  "metadata": {
    "kernelspec": {
      "display_name": "Python 3",
      "language": "python",
      "name": "python3"
    },
    "language_info": {
      "codemirror_mode": {
        "name": "ipython",
        "version": 3
      },
      "file_extension": ".py",
      "mimetype": "text/x-python",
      "name": "python",
      "nbconvert_exporter": "python",
      "pygments_lexer": "ipython3",
      "version": "3.7.4"
    },
    "colab": {
      "name": "Points.ipynb",
      "provenance": []
    }
  },
  "cells": [
    {
      "cell_type": "code",
      "metadata": {
        "id": "pRSqtdEkgg48",
        "colab_type": "code",
        "colab": {}
      },
      "source": [
        "import numpy as np\n",
        "import scipy as sp\n",
        "import pandas as pd\n",
        "import matplotlib.pyplot as plt\n",
        "from sklearn.cluster import KMeans\n",
        "from scipy.cluster.hierarchy import dendrogram, linkage\n",
        "from sklearn.cluster import AgglomerativeClustering"
      ],
      "execution_count": 0,
      "outputs": []
    },
    {
      "cell_type": "code",
      "metadata": {
        "id": "BwMwkpI_gg5A",
        "colab_type": "code",
        "colab": {}
      },
      "source": [
        "#read data from csv\n",
        "points = pd.read_csv(\"http://gunet2.cs.unipi.gr/modules/document/file.php/TMI100/Datasets/points_example.csv\")\n",
        "\n",
        "### K-MEANS PARAMS\n",
        "#set number of clusters for K-means\n",
        "kmeans_no_of_clusters = 5\n",
        "\n",
        "### AGGLOMERATIVE HIERARCHICAL PARAMS\n",
        "#Number of Clusters for Agglomerative clustering\n",
        "agglomerative_no_of_clusters = 3\n",
        "# Metric used to compute the linkage, values :  “euclidean”, “l1”, “l2”, “manhattan”, “cosine”, or “precomputed”\n",
        "affinity='euclidean'\n",
        "# Linkage criterion to be used,  values: “ward”, “complete”, “average”, “single”\n",
        "h_linkage='ward'"
      ],
      "execution_count": 0,
      "outputs": []
    },
    {
      "cell_type": "code",
      "metadata": {
        "id": "SlZD2gjAgg5D",
        "colab_type": "code",
        "colab": {}
      },
      "source": [
        "#set custom color pallete\n",
        "customPalette = ['#630C3A', '#39C8C6', '#D3500C', '#FFB139', '#f0f019', '#68c182']"
      ],
      "execution_count": 0,
      "outputs": []
    },
    {
      "cell_type": "code",
      "metadata": {
        "scrolled": true,
        "id": "XhyFK_Ufgg5J",
        "colab_type": "code",
        "outputId": "a364bee2-ab3b-4f35-f8c7-374c3331d35b",
        "colab": {
          "base_uri": "https://localhost:8080/",
          "height": 197
        }
      },
      "source": [
        "###### K-MEANS CLUSTERING\n",
        "# print points\n",
        "points.sample(n=5)"
      ],
      "execution_count": 4,
      "outputs": [
        {
          "output_type": "execute_result",
          "data": {
            "text/html": [
              "<div>\n",
              "<style scoped>\n",
              "    .dataframe tbody tr th:only-of-type {\n",
              "        vertical-align: middle;\n",
              "    }\n",
              "\n",
              "    .dataframe tbody tr th {\n",
              "        vertical-align: top;\n",
              "    }\n",
              "\n",
              "    .dataframe thead th {\n",
              "        text-align: right;\n",
              "    }\n",
              "</style>\n",
              "<table border=\"1\" class=\"dataframe\">\n",
              "  <thead>\n",
              "    <tr style=\"text-align: right;\">\n",
              "      <th></th>\n",
              "      <th>x</th>\n",
              "      <th>y</th>\n",
              "    </tr>\n",
              "  </thead>\n",
              "  <tbody>\n",
              "    <tr>\n",
              "      <th>0</th>\n",
              "      <td>1.5</td>\n",
              "      <td>2.10</td>\n",
              "    </tr>\n",
              "    <tr>\n",
              "      <th>21</th>\n",
              "      <td>7.2</td>\n",
              "      <td>2.50</td>\n",
              "    </tr>\n",
              "    <tr>\n",
              "      <th>7</th>\n",
              "      <td>3.3</td>\n",
              "      <td>10.25</td>\n",
              "    </tr>\n",
              "    <tr>\n",
              "      <th>8</th>\n",
              "      <td>3.5</td>\n",
              "      <td>11.15</td>\n",
              "    </tr>\n",
              "    <tr>\n",
              "      <th>11</th>\n",
              "      <td>4.0</td>\n",
              "      <td>10.20</td>\n",
              "    </tr>\n",
              "  </tbody>\n",
              "</table>\n",
              "</div>"
            ],
            "text/plain": [
              "      x      y\n",
              "0   1.5   2.10\n",
              "21  7.2   2.50\n",
              "7   3.3  10.25\n",
              "8   3.5  11.15\n",
              "11  4.0  10.20"
            ]
          },
          "metadata": {
            "tags": []
          },
          "execution_count": 4
        }
      ]
    },
    {
      "cell_type": "code",
      "metadata": {
        "id": "Y1-FFDhmgg5N",
        "colab_type": "code",
        "outputId": "f88d331b-eda4-4a1c-d595-83b643e60120",
        "colab": {
          "base_uri": "https://localhost:8080/",
          "height": 265
        }
      },
      "source": [
        "# show points\n",
        "plt.plot(points.x,points.y,\".\")\n",
        "plt.show()"
      ],
      "execution_count": 5,
      "outputs": [
        {
          "output_type": "display_data",
          "data": {
            "image/png": "[encoded data removed]",
            "text/plain": [
              "<Figure size 432x288 with 1 Axes>"
            ]
          },
          "metadata": {
            "tags": []
          }
        }
      ]
    },
    {
      "cell_type": "code",
      "metadata": {
        "id": "UxPvPbEagg5Q",
        "colab_type": "code",
        "colab": {}
      },
      "source": [
        "#Compute k-means clustering\n",
        "kmeans = KMeans(n_clusters=kmeans_no_of_clusters, random_state=0).fit(points)"
      ],
      "execution_count": 0,
      "outputs": []
    },
    {
      "cell_type": "code",
      "metadata": {
        "id": "-Ma1g9YMgg5T",
        "colab_type": "code",
        "outputId": "f4a10cb2-58c0-4c0d-edcf-7e63193752dd",
        "colab": {
          "base_uri": "https://localhost:8080/",
          "height": 52
        }
      },
      "source": [
        "#Predict the closest cluster each point belongs to\n",
        "kmeans.predict(points)"
      ],
      "execution_count": 7,
      "outputs": [
        {
          "output_type": "execute_result",
          "data": {
            "text/plain": [
              "array([2, 2, 2, 2, 2, 3, 3, 3, 0, 0, 0, 3, 0, 0, 0, 3, 0, 4, 4, 1, 4, 4,\n",
              "       1, 1, 1], dtype=int32)"
            ]
          },
          "metadata": {
            "tags": []
          },
          "execution_count": 7
        }
      ]
    },
    {
      "cell_type": "code",
      "metadata": {
        "id": "b5exaK8Qgg5W",
        "colab_type": "code",
        "outputId": "9f1cf84d-16d4-4a70-8b2b-03626c812cb1",
        "colab": {
          "base_uri": "https://localhost:8080/",
          "height": 105
        }
      },
      "source": [
        "# Coordinates of cluster centers & print\n",
        "centers = kmeans.cluster_centers_\n",
        "centers"
      ],
      "execution_count": 8,
      "outputs": [
        {
          "output_type": "execute_result",
          "data": {
            "text/plain": [
              "array([[ 3.96428571, 12.10714286],\n",
              "       [ 7.4625    ,  3.675     ],\n",
              "       [ 1.7       ,  3.33      ],\n",
              "       [ 3.75      ,  9.49      ],\n",
              "       [ 6.7       ,  1.9       ]])"
            ]
          },
          "metadata": {
            "tags": []
          },
          "execution_count": 8
        }
      ]
    },
    {
      "cell_type": "code",
      "metadata": {
        "id": "YURScgRjgg5Z",
        "colab_type": "code",
        "colab": {}
      },
      "source": [
        "#Add column 'cluster' to points array\n",
        "points[\"cluster\"]=kmeans.predict(points)"
      ],
      "execution_count": 0,
      "outputs": []
    },
    {
      "cell_type": "code",
      "metadata": {
        "id": "ING9X98Tgg5c",
        "colab_type": "code",
        "outputId": "453fa45a-fd74-42fb-e98d-1382acc73ab8",
        "colab": {
          "base_uri": "https://localhost:8080/",
          "height": 34
        }
      },
      "source": [
        "# Number of iterations run\n",
        "kmeans.n_iter_"
      ],
      "execution_count": 10,
      "outputs": [
        {
          "output_type": "execute_result",
          "data": {
            "text/plain": [
              "3"
            ]
          },
          "metadata": {
            "tags": []
          },
          "execution_count": 10
        }
      ]
    },
    {
      "cell_type": "code",
      "metadata": {
        "id": "X_HifMLjgg5f",
        "colab_type": "code",
        "outputId": "cef65027-f459-4a87-9b8b-022e3093f77a",
        "colab": {
          "base_uri": "https://localhost:8080/",
          "height": 34
        }
      },
      "source": [
        "# Sum of squared distances of samples to their closest cluster center\n",
        "kmeans.inertia_"
      ],
      "execution_count": 11,
      "outputs": [
        {
          "output_type": "execute_result",
          "data": {
            "text/plain": [
              "28.860089285714277"
            ]
          },
          "metadata": {
            "tags": []
          },
          "execution_count": 11
        }
      ]
    },
    {
      "cell_type": "code",
      "metadata": {
        "scrolled": true,
        "id": "_DQjq-nogg5i",
        "colab_type": "code",
        "outputId": "9ac143e3-f8ef-4259-fff1-30b213d0f6e8",
        "colab": {
          "base_uri": "https://localhost:8080/",
          "height": 347
        }
      },
      "source": [
        "#print 10 first values of points array\n",
        "points.head(10)"
      ],
      "execution_count": 12,
      "outputs": [
        {
          "output_type": "execute_result",
          "data": {
            "text/html": [
              "<div>\n",
              "<style scoped>\n",
              "    .dataframe tbody tr th:only-of-type {\n",
              "        vertical-align: middle;\n",
              "    }\n",
              "\n",
              "    .dataframe tbody tr th {\n",
              "        vertical-align: top;\n",
              "    }\n",
              "\n",
              "    .dataframe thead th {\n",
              "        text-align: right;\n",
              "    }\n",
              "</style>\n",
              "<table border=\"1\" class=\"dataframe\">\n",
              "  <thead>\n",
              "    <tr style=\"text-align: right;\">\n",
              "      <th></th>\n",
              "      <th>x</th>\n",
              "      <th>y</th>\n",
              "      <th>cluster</th>\n",
              "    </tr>\n",
              "  </thead>\n",
              "  <tbody>\n",
              "    <tr>\n",
              "      <th>0</th>\n",
              "      <td>1.50</td>\n",
              "      <td>2.10</td>\n",
              "      <td>2</td>\n",
              "    </tr>\n",
              "    <tr>\n",
              "      <th>1</th>\n",
              "      <td>1.30</td>\n",
              "      <td>3.15</td>\n",
              "      <td>2</td>\n",
              "    </tr>\n",
              "    <tr>\n",
              "      <th>2</th>\n",
              "      <td>1.40</td>\n",
              "      <td>4.10</td>\n",
              "      <td>2</td>\n",
              "    </tr>\n",
              "    <tr>\n",
              "      <th>3</th>\n",
              "      <td>2.10</td>\n",
              "      <td>2.20</td>\n",
              "      <td>2</td>\n",
              "    </tr>\n",
              "    <tr>\n",
              "      <th>4</th>\n",
              "      <td>2.20</td>\n",
              "      <td>5.10</td>\n",
              "      <td>2</td>\n",
              "    </tr>\n",
              "    <tr>\n",
              "      <th>5</th>\n",
              "      <td>3.15</td>\n",
              "      <td>8.10</td>\n",
              "      <td>3</td>\n",
              "    </tr>\n",
              "    <tr>\n",
              "      <th>6</th>\n",
              "      <td>3.20</td>\n",
              "      <td>9.20</td>\n",
              "      <td>3</td>\n",
              "    </tr>\n",
              "    <tr>\n",
              "      <th>7</th>\n",
              "      <td>3.30</td>\n",
              "      <td>10.25</td>\n",
              "      <td>3</td>\n",
              "    </tr>\n",
              "    <tr>\n",
              "      <th>8</th>\n",
              "      <td>3.50</td>\n",
              "      <td>11.15</td>\n",
              "      <td>0</td>\n",
              "    </tr>\n",
              "    <tr>\n",
              "      <th>9</th>\n",
              "      <td>3.10</td>\n",
              "      <td>12.10</td>\n",
              "      <td>0</td>\n",
              "    </tr>\n",
              "  </tbody>\n",
              "</table>\n",
              "</div>"
            ],
            "text/plain": [
              "      x      y  cluster\n",
              "0  1.50   2.10        2\n",
              "1  1.30   3.15        2\n",
              "2  1.40   4.10        2\n",
              "3  2.10   2.20        2\n",
              "4  2.20   5.10        2\n",
              "5  3.15   8.10        3\n",
              "6  3.20   9.20        3\n",
              "7  3.30  10.25        3\n",
              "8  3.50  11.15        0\n",
              "9  3.10  12.10        0"
            ]
          },
          "metadata": {
            "tags": []
          },
          "execution_count": 12
        }
      ]
    },
    {
      "cell_type": "code",
      "metadata": {
        "id": "GBr76n0Wgg5l",
        "colab_type": "code",
        "outputId": "f07a7775-f8ef-4d21-8061-ad8e525f365a",
        "colab": {
          "base_uri": "https://localhost:8080/",
          "height": 281
        }
      },
      "source": [
        "#Show points per cluster\n",
        "n = 0\n",
        "while n < kmeans_no_of_clusters:\n",
        "    plt.plot(points.x.loc[points.cluster == n],points.y.loc[points.cluster == n],\".\",c=customPalette[n])\n",
        "    plt.plot(centers[n,0],centers[n,1] ,\"ro\",c=customPalette[n])\n",
        "    n = n + 1\n",
        "plt.title('K-means Clusters & Points', color= 'Black')\n",
        "plt.show()"
      ],
      "execution_count": 13,
      "outputs": [
        {
          "output_type": "display_data",
          "data": {
            "image/png": "[encoded data removed]",
            "text/plain": [
              "<Figure size 432x288 with 1 Axes>"
            ]
          },
          "metadata": {
            "tags": []
          }
        }
      ]
    },
    {
      "cell_type": "code",
      "metadata": {
        "id": "51hokuROgg5o",
        "colab_type": "code",
        "outputId": "9194318b-8506-43f2-fdde-9b5735101cb9",
        "colab": {
          "base_uri": "https://localhost:8080/",
          "height": 105
        }
      },
      "source": [
        "# Groups by cluster\n",
        "points.groupby(\"cluster\").groups"
      ],
      "execution_count": 14,
      "outputs": [
        {
          "output_type": "execute_result",
          "data": {
            "text/plain": [
              "{0: Int64Index([8, 9, 10, 12, 13, 14, 16], dtype='int64'),\n",
              " 1: Int64Index([19, 22, 23, 24], dtype='int64'),\n",
              " 2: Int64Index([0, 1, 2, 3, 4], dtype='int64'),\n",
              " 3: Int64Index([5, 6, 7, 11, 15], dtype='int64'),\n",
              " 4: Int64Index([17, 18, 20, 21], dtype='int64')}"
            ]
          },
          "metadata": {
            "tags": []
          },
          "execution_count": 14
        }
      ]
    },
    {
      "cell_type": "code",
      "metadata": {
        "id": "Rszjct7Kgg5v",
        "colab_type": "code",
        "outputId": "cecabed7-2be1-469e-b058-398a715fc082",
        "colab": {
          "base_uri": "https://localhost:8080/",
          "height": 137
        }
      },
      "source": [
        "points.T"
      ],
      "execution_count": 15,
      "outputs": [
        {
          "output_type": "execute_result",
          "data": {
            "text/html": [
              "<div>\n",
              "<style scoped>\n",
              "    .dataframe tbody tr th:only-of-type {\n",
              "        vertical-align: middle;\n",
              "    }\n",
              "\n",
              "    .dataframe tbody tr th {\n",
              "        vertical-align: top;\n",
              "    }\n",
              "\n",
              "    .dataframe thead th {\n",
              "        text-align: right;\n",
              "    }\n",
              "</style>\n",
              "<table border=\"1\" class=\"dataframe\">\n",
              "  <thead>\n",
              "    <tr style=\"text-align: right;\">\n",
              "      <th></th>\n",
              "      <th>0</th>\n",
              "      <th>1</th>\n",
              "      <th>2</th>\n",
              "      <th>3</th>\n",
              "      <th>4</th>\n",
              "      <th>5</th>\n",
              "      <th>6</th>\n",
              "      <th>7</th>\n",
              "      <th>8</th>\n",
              "      <th>9</th>\n",
              "      <th>10</th>\n",
              "      <th>11</th>\n",
              "      <th>12</th>\n",
              "      <th>13</th>\n",
              "      <th>14</th>\n",
              "      <th>15</th>\n",
              "      <th>16</th>\n",
              "      <th>17</th>\n",
              "      <th>18</th>\n",
              "      <th>19</th>\n",
              "      <th>20</th>\n",
              "      <th>21</th>\n",
              "      <th>22</th>\n",
              "      <th>23</th>\n",
              "      <th>24</th>\n",
              "    </tr>\n",
              "  </thead>\n",
              "  <tbody>\n",
              "    <tr>\n",
              "      <th>x</th>\n",
              "      <td>1.5</td>\n",
              "      <td>1.30</td>\n",
              "      <td>1.4</td>\n",
              "      <td>2.1</td>\n",
              "      <td>2.2</td>\n",
              "      <td>3.15</td>\n",
              "      <td>3.2</td>\n",
              "      <td>3.30</td>\n",
              "      <td>3.50</td>\n",
              "      <td>3.1</td>\n",
              "      <td>3.4</td>\n",
              "      <td>4.0</td>\n",
              "      <td>4.1</td>\n",
              "      <td>4.15</td>\n",
              "      <td>4.2</td>\n",
              "      <td>5.1</td>\n",
              "      <td>5.3</td>\n",
              "      <td>6.1</td>\n",
              "      <td>6.4</td>\n",
              "      <td>6.2</td>\n",
              "      <td>7.1</td>\n",
              "      <td>7.2</td>\n",
              "      <td>7.15</td>\n",
              "      <td>8.1</td>\n",
              "      <td>8.4</td>\n",
              "    </tr>\n",
              "    <tr>\n",
              "      <th>y</th>\n",
              "      <td>2.1</td>\n",
              "      <td>3.15</td>\n",
              "      <td>4.1</td>\n",
              "      <td>2.2</td>\n",
              "      <td>5.1</td>\n",
              "      <td>8.10</td>\n",
              "      <td>9.2</td>\n",
              "      <td>10.25</td>\n",
              "      <td>11.15</td>\n",
              "      <td>12.1</td>\n",
              "      <td>13.2</td>\n",
              "      <td>10.2</td>\n",
              "      <td>11.1</td>\n",
              "      <td>12.50</td>\n",
              "      <td>13.6</td>\n",
              "      <td>9.7</td>\n",
              "      <td>11.1</td>\n",
              "      <td>1.4</td>\n",
              "      <td>2.3</td>\n",
              "      <td>3.8</td>\n",
              "      <td>1.4</td>\n",
              "      <td>2.5</td>\n",
              "      <td>3.30</td>\n",
              "      <td>3.1</td>\n",
              "      <td>4.5</td>\n",
              "    </tr>\n",
              "    <tr>\n",
              "      <th>cluster</th>\n",
              "      <td>2.0</td>\n",
              "      <td>2.00</td>\n",
              "      <td>2.0</td>\n",
              "      <td>2.0</td>\n",
              "      <td>2.0</td>\n",
              "      <td>3.00</td>\n",
              "      <td>3.0</td>\n",
              "      <td>3.00</td>\n",
              "      <td>0.00</td>\n",
              "      <td>0.0</td>\n",
              "      <td>0.0</td>\n",
              "      <td>3.0</td>\n",
              "      <td>0.0</td>\n",
              "      <td>0.00</td>\n",
              "      <td>0.0</td>\n",
              "      <td>3.0</td>\n",
              "      <td>0.0</td>\n",
              "      <td>4.0</td>\n",
              "      <td>4.0</td>\n",
              "      <td>1.0</td>\n",
              "      <td>4.0</td>\n",
              "      <td>4.0</td>\n",
              "      <td>1.00</td>\n",
              "      <td>1.0</td>\n",
              "      <td>1.0</td>\n",
              "    </tr>\n",
              "  </tbody>\n",
              "</table>\n",
              "</div>"
            ],
            "text/plain": [
              "          0     1    2    3    4     5   ...   19   20   21    22   23   24\n",
              "x        1.5  1.30  1.4  2.1  2.2  3.15  ...  6.2  7.1  7.2  7.15  8.1  8.4\n",
              "y        2.1  3.15  4.1  2.2  5.1  8.10  ...  3.8  1.4  2.5  3.30  3.1  4.5\n",
              "cluster  2.0  2.00  2.0  2.0  2.0  3.00  ...  1.0  4.0  4.0  1.00  1.0  1.0\n",
              "\n",
              "[3 rows x 25 columns]"
            ]
          },
          "metadata": {
            "tags": []
          },
          "execution_count": 15
        }
      ]
    },
    {
      "cell_type": "code",
      "metadata": {
        "id": "uSm732HBgg5y",
        "colab_type": "code",
        "outputId": "70612f08-0fbf-4219-dd5b-fed40d40d302",
        "colab": {
          "base_uri": "https://localhost:8080/",
          "height": 107
        }
      },
      "source": [
        "# Random sample\n",
        "points.sample(n=2)"
      ],
      "execution_count": 16,
      "outputs": [
        {
          "output_type": "execute_result",
          "data": {
            "text/html": [
              "<div>\n",
              "<style scoped>\n",
              "    .dataframe tbody tr th:only-of-type {\n",
              "        vertical-align: middle;\n",
              "    }\n",
              "\n",
              "    .dataframe tbody tr th {\n",
              "        vertical-align: top;\n",
              "    }\n",
              "\n",
              "    .dataframe thead th {\n",
              "        text-align: right;\n",
              "    }\n",
              "</style>\n",
              "<table border=\"1\" class=\"dataframe\">\n",
              "  <thead>\n",
              "    <tr style=\"text-align: right;\">\n",
              "      <th></th>\n",
              "      <th>x</th>\n",
              "      <th>y</th>\n",
              "      <th>cluster</th>\n",
              "    </tr>\n",
              "  </thead>\n",
              "  <tbody>\n",
              "    <tr>\n",
              "      <th>12</th>\n",
              "      <td>4.1</td>\n",
              "      <td>11.1</td>\n",
              "      <td>0</td>\n",
              "    </tr>\n",
              "    <tr>\n",
              "      <th>20</th>\n",
              "      <td>7.1</td>\n",
              "      <td>1.4</td>\n",
              "      <td>4</td>\n",
              "    </tr>\n",
              "  </tbody>\n",
              "</table>\n",
              "</div>"
            ],
            "text/plain": [
              "      x     y  cluster\n",
              "12  4.1  11.1        0\n",
              "20  7.1   1.4        4"
            ]
          },
          "metadata": {
            "tags": []
          },
          "execution_count": 16
        }
      ]
    },
    {
      "cell_type": "code",
      "metadata": {
        "id": "KlREP8dIgg6C",
        "colab_type": "code",
        "colab": {}
      },
      "source": [
        "###### AGGLOMERATIVE HIERARCHICAL CLUSTERING\n",
        "#read data from csv\n",
        "pointsh = pd.read_csv(\"http://gunet2.cs.unipi.gr/modules/document/file.php/TMI100/Datasets/points_example.csv\") "
      ],
      "execution_count": 0,
      "outputs": []
    },
    {
      "cell_type": "code",
      "metadata": {
        "id": "h1AYH0fVgg6G",
        "colab_type": "code",
        "outputId": "2be96cba-9125-4d64-9b4d-0c244198533e",
        "colab": {
          "base_uri": "https://localhost:8080/",
          "height": 437
        }
      },
      "source": [
        "# Create dendrogram\n",
        "linked = linkage(pointsh, h_linkage)\n",
        "\n",
        "labelList = range(0, pointsh.size)\n",
        "\n",
        "plt.figure(figsize=(10, 7))\n",
        "dendrogram(linked,\n",
        "            orientation='top',\n",
        "            labels=labelList,\n",
        "            distance_sort='descending',\n",
        "            show_leaf_counts=True)\n",
        "plt.show()"
      ],
      "execution_count": 18,
      "outputs": [
        {
          "output_type": "display_data",
          "data": {
            "image/png": "[encoded data removed]",
            "text/plain": [
              "<Figure size 720x504 with 1 Axes>"
            ]
          },
          "metadata": {
            "tags": []
          }
        }
      ]
    },
    {
      "cell_type": "code",
      "metadata": {
        "id": "7mJjeHXLgg6J",
        "colab_type": "code",
        "outputId": "62334890-928f-491f-8b71-a2bb584d9a96",
        "colab": {
          "base_uri": "https://localhost:8080/",
          "height": 52
        }
      },
      "source": [
        "#Fit the hierarchical clustering on the data\n",
        "cluster = AgglomerativeClustering(n_clusters=agglomerative_no_of_clusters, affinity=affinity, linkage=h_linkage)\n",
        "cluster.fit_predict(pointsh)"
      ],
      "execution_count": 22,
      "outputs": [
        {
          "output_type": "execute_result",
          "data": {
            "text/plain": [
              "array([2, 2, 2, 2, 2, 0, 0, 0, 0, 0, 0, 0, 0, 0, 0, 0, 0, 1, 1, 1, 1, 1,\n",
              "       1, 1, 1])"
            ]
          },
          "metadata": {
            "tags": []
          },
          "execution_count": 22
        }
      ]
    },
    {
      "cell_type": "code",
      "metadata": {
        "id": "LrZyXts4gg6M",
        "colab_type": "code",
        "outputId": "bce0876d-49b5-4a09-fa2a-2368974fedca",
        "colab": {
          "base_uri": "https://localhost:8080/",
          "height": 797
        }
      },
      "source": [
        "pointsh[\"cluster_hier\"]=cluster.fit_predict(pointsh)\n",
        "pointsh"
      ],
      "execution_count": 20,
      "outputs": [
        {
          "output_type": "execute_result",
          "data": {
            "text/html": [
              "<div>\n",
              "<style scoped>\n",
              "    .dataframe tbody tr th:only-of-type {\n",
              "        vertical-align: middle;\n",
              "    }\n",
              "\n",
              "    .dataframe tbody tr th {\n",
              "        vertical-align: top;\n",
              "    }\n",
              "\n",
              "    .dataframe thead th {\n",
              "        text-align: right;\n",
              "    }\n",
              "</style>\n",
              "<table border=\"1\" class=\"dataframe\">\n",
              "  <thead>\n",
              "    <tr style=\"text-align: right;\">\n",
              "      <th></th>\n",
              "      <th>x</th>\n",
              "      <th>y</th>\n",
              "      <th>cluster_hier</th>\n",
              "    </tr>\n",
              "  </thead>\n",
              "  <tbody>\n",
              "    <tr>\n",
              "      <th>0</th>\n",
              "      <td>1.50</td>\n",
              "      <td>2.10</td>\n",
              "      <td>1</td>\n",
              "    </tr>\n",
              "    <tr>\n",
              "      <th>1</th>\n",
              "      <td>1.30</td>\n",
              "      <td>3.15</td>\n",
              "      <td>1</td>\n",
              "    </tr>\n",
              "    <tr>\n",
              "      <th>2</th>\n",
              "      <td>1.40</td>\n",
              "      <td>4.10</td>\n",
              "      <td>1</td>\n",
              "    </tr>\n",
              "    <tr>\n",
              "      <th>3</th>\n",
              "      <td>2.10</td>\n",
              "      <td>2.20</td>\n",
              "      <td>1</td>\n",
              "    </tr>\n",
              "    <tr>\n",
              "      <th>4</th>\n",
              "      <td>2.20</td>\n",
              "      <td>5.10</td>\n",
              "      <td>1</td>\n",
              "    </tr>\n",
              "    <tr>\n",
              "      <th>5</th>\n",
              "      <td>3.15</td>\n",
              "      <td>8.10</td>\n",
              "      <td>2</td>\n",
              "    </tr>\n",
              "    <tr>\n",
              "      <th>6</th>\n",
              "      <td>3.20</td>\n",
              "      <td>9.20</td>\n",
              "      <td>2</td>\n",
              "    </tr>\n",
              "    <tr>\n",
              "      <th>7</th>\n",
              "      <td>3.30</td>\n",
              "      <td>10.25</td>\n",
              "      <td>2</td>\n",
              "    </tr>\n",
              "    <tr>\n",
              "      <th>8</th>\n",
              "      <td>3.50</td>\n",
              "      <td>11.15</td>\n",
              "      <td>2</td>\n",
              "    </tr>\n",
              "    <tr>\n",
              "      <th>9</th>\n",
              "      <td>3.10</td>\n",
              "      <td>12.10</td>\n",
              "      <td>2</td>\n",
              "    </tr>\n",
              "    <tr>\n",
              "      <th>10</th>\n",
              "      <td>3.40</td>\n",
              "      <td>13.20</td>\n",
              "      <td>2</td>\n",
              "    </tr>\n",
              "    <tr>\n",
              "      <th>11</th>\n",
              "      <td>4.00</td>\n",
              "      <td>10.20</td>\n",
              "      <td>2</td>\n",
              "    </tr>\n",
              "    <tr>\n",
              "      <th>12</th>\n",
              "      <td>4.10</td>\n",
              "      <td>11.10</td>\n",
              "      <td>2</td>\n",
              "    </tr>\n",
              "    <tr>\n",
              "      <th>13</th>\n",
              "      <td>4.15</td>\n",
              "      <td>12.50</td>\n",
              "      <td>2</td>\n",
              "    </tr>\n",
              "    <tr>\n",
              "      <th>14</th>\n",
              "      <td>4.20</td>\n",
              "      <td>13.60</td>\n",
              "      <td>2</td>\n",
              "    </tr>\n",
              "    <tr>\n",
              "      <th>15</th>\n",
              "      <td>5.10</td>\n",
              "      <td>9.70</td>\n",
              "      <td>2</td>\n",
              "    </tr>\n",
              "    <tr>\n",
              "      <th>16</th>\n",
              "      <td>5.30</td>\n",
              "      <td>11.10</td>\n",
              "      <td>2</td>\n",
              "    </tr>\n",
              "    <tr>\n",
              "      <th>17</th>\n",
              "      <td>6.10</td>\n",
              "      <td>1.40</td>\n",
              "      <td>0</td>\n",
              "    </tr>\n",
              "    <tr>\n",
              "      <th>18</th>\n",
              "      <td>6.40</td>\n",
              "      <td>2.30</td>\n",
              "      <td>0</td>\n",
              "    </tr>\n",
              "    <tr>\n",
              "      <th>19</th>\n",
              "      <td>6.20</td>\n",
              "      <td>3.80</td>\n",
              "      <td>0</td>\n",
              "    </tr>\n",
              "    <tr>\n",
              "      <th>20</th>\n",
              "      <td>7.10</td>\n",
              "      <td>1.40</td>\n",
              "      <td>0</td>\n",
              "    </tr>\n",
              "    <tr>\n",
              "      <th>21</th>\n",
              "      <td>7.20</td>\n",
              "      <td>2.50</td>\n",
              "      <td>0</td>\n",
              "    </tr>\n",
              "    <tr>\n",
              "      <th>22</th>\n",
              "      <td>7.15</td>\n",
              "      <td>3.30</td>\n",
              "      <td>0</td>\n",
              "    </tr>\n",
              "    <tr>\n",
              "      <th>23</th>\n",
              "      <td>8.10</td>\n",
              "      <td>3.10</td>\n",
              "      <td>0</td>\n",
              "    </tr>\n",
              "    <tr>\n",
              "      <th>24</th>\n",
              "      <td>8.40</td>\n",
              "      <td>4.50</td>\n",
              "      <td>0</td>\n",
              "    </tr>\n",
              "  </tbody>\n",
              "</table>\n",
              "</div>"
            ],
            "text/plain": [
              "       x      y  cluster_hier\n",
              "0   1.50   2.10             1\n",
              "1   1.30   3.15             1\n",
              "2   1.40   4.10             1\n",
              "3   2.10   2.20             1\n",
              "4   2.20   5.10             1\n",
              "5   3.15   8.10             2\n",
              "6   3.20   9.20             2\n",
              "7   3.30  10.25             2\n",
              "8   3.50  11.15             2\n",
              "9   3.10  12.10             2\n",
              "10  3.40  13.20             2\n",
              "11  4.00  10.20             2\n",
              "12  4.10  11.10             2\n",
              "13  4.15  12.50             2\n",
              "14  4.20  13.60             2\n",
              "15  5.10   9.70             2\n",
              "16  5.30  11.10             2\n",
              "17  6.10   1.40             0\n",
              "18  6.40   2.30             0\n",
              "19  6.20   3.80             0\n",
              "20  7.10   1.40             0\n",
              "21  7.20   2.50             0\n",
              "22  7.15   3.30             0\n",
              "23  8.10   3.10             0\n",
              "24  8.40   4.50             0"
            ]
          },
          "metadata": {
            "tags": []
          },
          "execution_count": 20
        }
      ]
    },
    {
      "cell_type": "code",
      "metadata": {
        "id": "397GtJM1gg6P",
        "colab_type": "code",
        "outputId": "3e6c613c-2170-465e-e1b4-8a64368c4cd8",
        "colab": {
          "base_uri": "https://localhost:8080/",
          "height": 281
        }
      },
      "source": [
        "#Show points per cluster\n",
        "nh = 0\n",
        "while nh < agglomerative_no_of_clusters:\n",
        "    plt.plot(pointsh.x.loc[pointsh.cluster_hier == nh],pointsh.y.loc[pointsh.cluster_hier == nh],\".\",c=customPalette[nh])\n",
        "    nh = nh + 1\n",
        "plt.title('Hierarchical Clustering Points', color= 'Black')\n",
        "plt.show()"
      ],
      "execution_count": 21,
      "outputs": [
        {
          "output_type": "display_data",
          "data": {
            "image/png": "[encoded data removed]",
            "text/plain": [
              "<Figure size 432x288 with 1 Axes>"
            ]
          },
          "metadata": {
            "tags": []
          }
        }
      ]
    }
  ]
}